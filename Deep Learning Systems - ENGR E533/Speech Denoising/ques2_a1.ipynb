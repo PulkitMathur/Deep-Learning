{
 "cells": [
  {
   "cell_type": "code",
   "execution_count": 135,
   "metadata": {
    "collapsed": true
   },
   "outputs": [],
   "source": [
    "from __future__ import print_function\n",
    "import tensorflow as tf\n",
    "from tensorflow.examples.tutorials.mnist import input_data\n",
    "import math\n",
    "import numpy as np\n",
    "import random\n",
    "import matplotlib.pyplot as mat\n",
    "import librosa"
   ]
  },
  {
   "cell_type": "code",
   "execution_count": 136,
   "metadata": {
    "collapsed": true
   },
   "outputs": [],
   "source": [
    "epsilon = 1e-3\n",
    "savePath = \"speechDenoising.ckpt/\"\n",
    "test_1 = 'test_x_01.wav'\n",
    "test_2 = 'test_x_02.wav'\n",
    "output_1 = 'output_1.wav'\n",
    "output_2 = 'output_2.wav'"
   ]
  },
  {
   "cell_type": "code",
   "execution_count": 137,
   "metadata": {
    "collapsed": true
   },
   "outputs": [],
   "source": [
    "def add_new_layer(inputs, in_size, out_size, activation_function=None,):\n",
    "    std_deviation = math.sqrt(2/in_size)\n",
    "    Weights = tf.Variable(tf.truncated_normal([in_size, out_size], stddev=std_deviation))\n",
    "    biases = tf.Variable(tf.zeros([1, out_size]) + 0.1,)\n",
    "    Wx_plus_b = tf.matmul(inputs, Weights) + biases\n",
    "    if activation_function is None:\n",
    "        outputs=Wx_plus_b\n",
    "    else:\n",
    "        outputs = activation_function(Wx_plus_b,)\n",
    "    return outputs"
   ]
  },
  {
   "cell_type": "code",
   "execution_count": 138,
   "metadata": {
    "collapsed": true
   },
   "outputs": [],
   "source": [
    "x = tf.placeholder(tf.float32, shape=(None, 513))\n",
    "y = tf.placeholder(tf.float32, shape=(None, 513))"
   ]
  },
  {
   "cell_type": "code",
   "execution_count": 139,
   "metadata": {
    "collapsed": true
   },
   "outputs": [],
   "source": [
    "input_layer = add_new_layer(x, 513, 1024, activation_function=tf.nn.relu)\n",
    "hidden_layer_1 = add_new_layer(input_layer, 1024, 1024, activation_function=tf.nn.relu)\n",
    "hidden_layer_2 = add_new_layer(hidden_layer_1, 1024, 1024, activation_function=tf.nn.relu)\n",
    "prediction = add_new_layer(hidden_layer_2, 1024, 513, activation_function=tf.nn.relu)\n",
    "\n",
    "loss=tf.losses.mean_squared_error(labels=y,predictions=prediction)\n",
    "\n",
    "train_step = tf.train.AdamOptimizer(learning_rate=0.001).minimize(loss)"
   ]
  },
  {
   "cell_type": "code",
   "execution_count": 140,
   "metadata": {},
   "outputs": [],
   "source": [
    "sess = tf.Session()\n",
    "init = tf.global_variables_initializer()\n",
    "saver=tf.train.Saver()\n",
    "sess.run(init)"
   ]
  },
  {
   "cell_type": "code",
   "execution_count": 141,
   "metadata": {
    "collapsed": true
   },
   "outputs": [],
   "source": [
    "def trainModel():\n",
    "    print(\"TRAINING\")\n",
    "    s, sr = librosa.load('train_clean_male.wav', sr=None)\n",
    "    S = librosa.stft(s, n_fft=1024, hop_length=512)\n",
    "    sn, sr = librosa.load('train_dirty_male.wav', sr=None)\n",
    "    X = librosa.stft(sn, n_fft=1024, hop_length=512)\n",
    "\n",
    "    for i in range(151):\n",
    "        batch_x, batch_y = np.transpose(np.abs(X)), np.transpose(np.abs(S))\n",
    "        sess.run(train_step, feed_dict={x: batch_x, y: batch_y})\n",
    "        if i % 10 == 0:\n",
    "            print(\"Epoch: \",i)\n",
    "            saver.save(sess, savePath)"
   ]
  },
  {
   "cell_type": "code",
   "execution_count": 142,
   "metadata": {},
   "outputs": [
    {
     "name": "stdout",
     "output_type": "stream",
     "text": [
      "TRAINING\n",
      "Epoch:  0\n",
      "Epoch:  10\n",
      "Epoch:  20\n",
      "Epoch:  30\n",
      "Epoch:  40\n",
      "Epoch:  50\n",
      "Epoch:  60\n",
      "Epoch:  70\n",
      "Epoch:  80\n",
      "Epoch:  90\n",
      "Epoch:  100\n",
      "Epoch:  110\n",
      "Epoch:  120\n",
      "Epoch:  130\n",
      "Epoch:  140\n",
      "Epoch:  150\n"
     ]
    }
   ],
   "source": [
    "trainModel()"
   ]
  },
  {
   "cell_type": "code",
   "execution_count": 143,
   "metadata": {},
   "outputs": [
    {
     "name": "stdout",
     "output_type": "stream",
     "text": [
      "TESTING\n",
      "test_x_01.wav\n",
      "DONE\n",
      "TESTING\n",
      "test_x_02.wav\n",
      "DONE\n"
     ]
    }
   ],
   "source": [
    "'''\n",
    "Testing occurs below \n",
    "'''\n",
    "    \n",
    "def testingModel(testFile,outputFile):\n",
    "    print(\"TESTING\")\n",
    "    print(testFile)\n",
    "    sn, sr = librosa.load(testFile, sr=None)\n",
    "    X = librosa.stft(sn, n_fft=1024, hop_length=512)\n",
    "    T = X\n",
    "    batch_x = np.transpose(np.abs(X))\n",
    "    saving_output = sess.run(prediction, feed_dict={x: batch_x})\n",
    "    saving_output_transpose = np.transpose(saving_output)\n",
    "    multiplying_factor = np.divide(T, np.abs(T))\n",
    "    final_answer = np.multiply(multiplying_factor, saving_output_transpose)\n",
    "    final_answer1 = librosa.istft(final_answer, win_length=1024, hop_length=512)\n",
    "    librosa.output.write_wav(outputFile, final_answer1, sr)\n",
    "    print(\"DONE\")\n",
    "    \n",
    "    \n",
    "testingModel(test_1,output_1)\n",
    "testingModel(test_2,output_2)\n",
    "sess.close()"
   ]
  },
  {
   "cell_type": "code",
   "execution_count": 133,
   "metadata": {},
   "outputs": [],
   "source": []
  },
  {
   "cell_type": "code",
   "execution_count": 134,
   "metadata": {},
   "outputs": [],
   "source": []
  },
  {
   "cell_type": "code",
   "execution_count": null,
   "metadata": {
    "collapsed": true
   },
   "outputs": [],
   "source": []
  }
 ],
 "metadata": {
  "kernelspec": {
   "display_name": "Python 3",
   "language": "python",
   "name": "python3"
  },
  "language_info": {
   "codemirror_mode": {
    "name": "ipython",
    "version": 3
   },
   "file_extension": ".py",
   "mimetype": "text/x-python",
   "name": "python",
   "nbconvert_exporter": "python",
   "pygments_lexer": "ipython3",
   "version": "3.5.4"
  }
 },
 "nbformat": 4,
 "nbformat_minor": 2
}
